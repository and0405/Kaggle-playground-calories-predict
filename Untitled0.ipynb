{
  "nbformat": 4,
  "nbformat_minor": 0,
  "metadata": {
    "colab": {
      "provenance": [],
      "authorship_tag": "ABX9TyPCBRwiE5xf0EXkDDjs8xTg",
      "include_colab_link": true
    },
    "kernelspec": {
      "name": "python3",
      "display_name": "Python 3"
    },
    "language_info": {
      "name": "python"
    }
  },
  "cells": [
    {
      "cell_type": "markdown",
      "metadata": {
        "id": "view-in-github",
        "colab_type": "text"
      },
      "source": [
        "<a href=\"https://colab.research.google.com/github/and0405/Kaggle-playground-calories-predict/blob/main/Untitled0.ipynb\" target=\"_parent\"><img src=\"https://colab.research.google.com/assets/colab-badge.svg\" alt=\"Open In Colab\"/></a>"
      ]
    },
    {
      "cell_type": "code",
      "source": [
        "from google.colab import drive\n",
        "drive.mount('/content/drive')\n",
        "\n",
        "import numpy as np\n",
        "import pandas as pd\n",
        "from pandas import DataFrame, Series\n",
        "import matplotlib.pyplot as plt\n",
        "import seaborn as sns\n",
        "\n",
        "from sklearn.model_selection import train_test_split\n",
        "from sklearn.linear_model import LogisticRegression\n",
        "\n",
        "import warnings\n",
        "warnings.filterwarnings('ignore')"
      ],
      "metadata": {
        "colab": {
          "base_uri": "https://localhost:8080/"
        },
        "id": "5sjMcPJ1kB9_",
        "outputId": "3193928e-0b7f-4d07-a91c-dd681a08de12"
      },
      "execution_count": 1,
      "outputs": [
        {
          "output_type": "stream",
          "name": "stdout",
          "text": [
            "Mounted at /content/drive\n"
          ]
        }
      ]
    },
    {
      "cell_type": "code",
      "source": [
        "path = \"/content/drive/MyDrive/data/\"\n",
        "\n",
        "train = pd.read_csv(path + 'train.csv')\n",
        "test = pd.read_csv(path + 'test.csv')"
      ],
      "metadata": {
        "id": "Ypf69q9JkFqK"
      },
      "execution_count": 2,
      "outputs": []
    },
    {
      "cell_type": "code",
      "execution_count": 12,
      "metadata": {
        "colab": {
          "base_uri": "https://localhost:8080/",
          "height": 17
        },
        "id": "SWEdQ98sj8B7",
        "outputId": "61320ebb-620d-4362-af0d-71f35f229b59"
      },
      "outputs": [
        {
          "output_type": "display_data",
          "data": {
            "text/plain": [
              "<IPython.core.display.Javascript object>"
            ],
            "application/javascript": [
              "\n",
              "    async function download(id, filename, size) {\n",
              "      if (!google.colab.kernel.accessAllowed) {\n",
              "        return;\n",
              "      }\n",
              "      const div = document.createElement('div');\n",
              "      const label = document.createElement('label');\n",
              "      label.textContent = `Downloading \"${filename}\": `;\n",
              "      div.appendChild(label);\n",
              "      const progress = document.createElement('progress');\n",
              "      progress.max = size;\n",
              "      div.appendChild(progress);\n",
              "      document.body.appendChild(div);\n",
              "\n",
              "      const buffers = [];\n",
              "      let downloaded = 0;\n",
              "\n",
              "      const channel = await google.colab.kernel.comms.open(id);\n",
              "      // Send a message to notify the kernel that we're ready.\n",
              "      channel.send({})\n",
              "\n",
              "      for await (const message of channel.messages) {\n",
              "        // Send a message to notify the kernel that we're ready.\n",
              "        channel.send({})\n",
              "        if (message.buffers) {\n",
              "          for (const buffer of message.buffers) {\n",
              "            buffers.push(buffer);\n",
              "            downloaded += buffer.byteLength;\n",
              "            progress.value = downloaded;\n",
              "          }\n",
              "        }\n",
              "      }\n",
              "      const blob = new Blob(buffers, {type: 'application/binary'});\n",
              "      const a = document.createElement('a');\n",
              "      a.href = window.URL.createObjectURL(blob);\n",
              "      a.download = filename;\n",
              "      div.appendChild(a);\n",
              "      a.click();\n",
              "      div.remove();\n",
              "    }\n",
              "  "
            ]
          },
          "metadata": {}
        },
        {
          "output_type": "display_data",
          "data": {
            "text/plain": [
              "<IPython.core.display.Javascript object>"
            ],
            "application/javascript": [
              "download(\"download_7f083a08-531e-4385-8f49-4a6b828551b1\", \"submission.csv\", 2839)"
            ]
          },
          "metadata": {}
        }
      ],
      "source": [
        "def estimate_by_fare_pclass(row, train_data):\n",
        "    fare = row[\"Fare\"]\n",
        "    pclass = row[\"Pclass\"]\n",
        "    group = train_data[\n",
        "        (train_data[\"Pclass\"] == pclass) &\n",
        "        (train_data[\"Fare\"] >= fare - 10) &\n",
        "        (train_data[\"Fare\"] <= fare + 10)\n",
        "    ]\n",
        "    if group.empty:\n",
        "        return train_data[\"Perished\"].mean()\n",
        "    else:\n",
        "        return group[\"Perished\"].mean()\n",
        "\n",
        "\n",
        "def estimate_by_family(row, train_data):\n",
        "    sibsp = row[\"SibSp\"]\n",
        "    parch = row[\"Parch\"]\n",
        "    group = train_data[\n",
        "        (train_data[\"SibSp\"] == sibsp) &\n",
        "        (train_data[\"Parch\"] == parch)\n",
        "    ]\n",
        "    if group.empty:\n",
        "        return train_data[\"Perished\"].mean()\n",
        "    else:\n",
        "        return group[\"Perished\"].mean()\n",
        "\n",
        "\n",
        "def combined_estimate(row, train_data):\n",
        "    rate1 = estimate_by_fare_pclass(row, train_data)\n",
        "    rate2 = estimate_by_family(row, train_data)\n",
        "    combined_rate = (rate1 + rate2) / 2\n",
        "    return 1 if combined_rate >= 0.5 else 0\n",
        "\n",
        "\n",
        "# パラメータ（男女別死亡率）の計算\n",
        "num_female_train_dead = train[(train[\"Sex\"] == \"female\") & (train[\"Perished\"] == 1)].shape[0]\n",
        "num_female_train = train[train[\"Sex\"] == \"female\"].shape[0]\n",
        "a = num_female_train_dead / num_female_train\n",
        "\n",
        "num_male_train_dead = train[(train[\"Sex\"] == \"male\") & (train[\"Perished\"] == 1)].shape[0]\n",
        "num_male_train = train[train[\"Sex\"] == \"male\"].shape[0]\n",
        "b = num_male_train_dead / num_male_train\n",
        "\n",
        "# 予測適用\n",
        "test[\"Perished\"] = test.apply(combined_estimate, axis=1, args=(train,))\n",
        "\n",
        "# CSV出力\n",
        "path = '/content/drive/My Drive/植物課題/'\n",
        "test[[\"PassengerId\", \"Perished\"]].to_csv(path + \"submission.csv\", index=False)\n",
        "\n",
        "\n",
        "\n",
        "submission = pd.read_csv(path + 'gender_submission.csv')\n",
        "submission\n",
        "\n",
        "# Google Drive・Google Colaboratoryで作業する場合\n",
        "\n",
        "from google.colab import files\n",
        "# colaboratory上に保存\n",
        "# 保存したcsvファイルはランタイムが終了すると削除されます\n",
        "submission.to_csv('submission.csv', index=False)\n",
        "# colaboratory上に保存したcsvファイルをローカルに保存\n",
        "files.download('submission.csv')"
      ]
    }
  ]
}